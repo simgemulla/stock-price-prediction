{
 "cells": [
  {
   "cell_type": "markdown",
   "metadata": {},
   "source": [
    "## Stock Price Prediction"
   ]
  },
  {
   "cell_type": "code",
   "execution_count": 1,
   "metadata": {},
   "outputs": [],
   "source": [
    "import numpy as np\n",
    "import pandas as pd\n",
    "from sklearn import preprocessing\n",
    "from sklearn.model_selection import train_test_split\n",
    "from sklearn.linear_model import LinearRegression"
   ]
  },
  {
   "cell_type": "code",
   "execution_count": 7,
   "metadata": {},
   "outputs": [],
   "source": [
    "def data_preparation(df, forecast_col, forecast_out, test_size):\n",
    "    label = df[forecast_col].shift(-forecast_out) ###??\n",
    "    X = np.array(df[[forecast_col]]) ## feature array\n",
    "    X = preprocessing.scale(X) ##processing, what this will do?\n",
    "    X_later = X[-forecast_out:] #will use later?\n",
    "    X = X[:-forecast_out] #contains training and testing\n",
    "    label.dropna(inplace=True) #dropping nan values\n",
    "    y = np.array(label) #assigning Y\n",
    "    \n",
    "    X_train, X_test, Y_train, Y_test = train_test_split(X, y, test_size = test_size, random_state = 0) #cross validation\n",
    "   ##look for the best practice\n",
    "    \n",
    "    response = [X_train, X_test, Y_train, Y_test, X_later]\n",
    "    return response"
   ]
  },
  {
   "cell_type": "code",
   "execution_count": 8,
   "metadata": {},
   "outputs": [],
   "source": [
    "df = pd.read_csv(\"GOOG.csv\")\n",
    "##df = df[df.symbol == \"GOOG\"] we dont need since our data only contains GOOG"
   ]
  },
  {
   "cell_type": "code",
   "execution_count": 9,
   "metadata": {},
   "outputs": [
    {
     "data": {
      "text/html": [
       "<div>\n",
       "<style scoped>\n",
       "    .dataframe tbody tr th:only-of-type {\n",
       "        vertical-align: middle;\n",
       "    }\n",
       "\n",
       "    .dataframe tbody tr th {\n",
       "        vertical-align: top;\n",
       "    }\n",
       "\n",
       "    .dataframe thead th {\n",
       "        text-align: right;\n",
       "    }\n",
       "</style>\n",
       "<table border=\"1\" class=\"dataframe\">\n",
       "  <thead>\n",
       "    <tr style=\"text-align: right;\">\n",
       "      <th></th>\n",
       "      <th>Date</th>\n",
       "      <th>Open</th>\n",
       "      <th>High</th>\n",
       "      <th>Low</th>\n",
       "      <th>Close</th>\n",
       "      <th>Adj Close</th>\n",
       "      <th>Volume</th>\n",
       "    </tr>\n",
       "  </thead>\n",
       "  <tbody>\n",
       "    <tr>\n",
       "      <th>0</th>\n",
       "      <td>2020-09-14</td>\n",
       "      <td>1539.005005</td>\n",
       "      <td>1564.000000</td>\n",
       "      <td>1515.739990</td>\n",
       "      <td>1519.280029</td>\n",
       "      <td>1519.280029</td>\n",
       "      <td>1696600</td>\n",
       "    </tr>\n",
       "    <tr>\n",
       "      <th>1</th>\n",
       "      <td>2020-09-15</td>\n",
       "      <td>1536.000000</td>\n",
       "      <td>1559.569946</td>\n",
       "      <td>1531.834961</td>\n",
       "      <td>1541.439941</td>\n",
       "      <td>1541.439941</td>\n",
       "      <td>1331100</td>\n",
       "    </tr>\n",
       "    <tr>\n",
       "      <th>2</th>\n",
       "      <td>2020-09-16</td>\n",
       "      <td>1555.540039</td>\n",
       "      <td>1562.000000</td>\n",
       "      <td>1519.819946</td>\n",
       "      <td>1520.900024</td>\n",
       "      <td>1520.900024</td>\n",
       "      <td>1311700</td>\n",
       "    </tr>\n",
       "    <tr>\n",
       "      <th>3</th>\n",
       "      <td>2020-09-17</td>\n",
       "      <td>1496.000000</td>\n",
       "      <td>1508.297974</td>\n",
       "      <td>1470.000000</td>\n",
       "      <td>1495.530029</td>\n",
       "      <td>1495.530029</td>\n",
       "      <td>1879800</td>\n",
       "    </tr>\n",
       "    <tr>\n",
       "      <th>4</th>\n",
       "      <td>2020-09-18</td>\n",
       "      <td>1498.010010</td>\n",
       "      <td>1503.003052</td>\n",
       "      <td>1437.130005</td>\n",
       "      <td>1459.989990</td>\n",
       "      <td>1459.989990</td>\n",
       "      <td>3103900</td>\n",
       "    </tr>\n",
       "  </tbody>\n",
       "</table>\n",
       "</div>"
      ],
      "text/plain": [
       "         Date         Open         High          Low        Close  \\\n",
       "0  2020-09-14  1539.005005  1564.000000  1515.739990  1519.280029   \n",
       "1  2020-09-15  1536.000000  1559.569946  1531.834961  1541.439941   \n",
       "2  2020-09-16  1555.540039  1562.000000  1519.819946  1520.900024   \n",
       "3  2020-09-17  1496.000000  1508.297974  1470.000000  1495.530029   \n",
       "4  2020-09-18  1498.010010  1503.003052  1437.130005  1459.989990   \n",
       "\n",
       "     Adj Close   Volume  \n",
       "0  1519.280029  1696600  \n",
       "1  1541.439941  1331100  \n",
       "2  1520.900024  1311700  \n",
       "3  1495.530029  1879800  \n",
       "4  1459.989990  3103900  "
      ]
     },
     "execution_count": 9,
     "metadata": {},
     "output_type": "execute_result"
    }
   ],
   "source": [
    "df.head()"
   ]
  },
  {
   "cell_type": "code",
   "execution_count": 10,
   "metadata": {},
   "outputs": [],
   "source": [
    "forecast_col = 'Close'\n",
    "forecast_out = 5\n",
    "test_size = 0.2"
   ]
  },
  {
   "cell_type": "markdown",
   "metadata": {},
   "source": [
    "### Applying Machine Learning"
   ]
  },
  {
   "cell_type": "code",
   "execution_count": 11,
   "metadata": {},
   "outputs": [
    {
     "data": {
      "text/plain": [
       "LinearRegression()"
      ]
     },
     "execution_count": 11,
     "metadata": {},
     "output_type": "execute_result"
    }
   ],
   "source": [
    "X_train, X_test, Y_train, Y_test, X_later = data_preparation(df, forecast_col, forecast_out, test_size)\n",
    "#calling the method were the cross validation and data preperation is in\n",
    "\n",
    "\n",
    "liner_regression = LinearRegression() #initializing\n",
    "\n",
    "liner_regression.fit(X_train, Y_train) #training the linear model"
   ]
  },
  {
   "cell_type": "code",
   "execution_count": 12,
   "metadata": {},
   "outputs": [
    {
     "name": "stdout",
     "output_type": "stream",
     "text": [
      "{'test_score': 0.9686879711886661, 'forecasted_set': array([2933.70922722, 2921.0816612 , 2921.67786894, 2862.21576168,\n",
      "       2892.89570182])}\n"
     ]
    }
   ],
   "source": [
    "score = liner_regression.score(X_test, Y_test) # testing the model\n",
    "predict = liner_regression.predict(X_later) # will contain forecasted data\n",
    "\n",
    "response = {} #creating json object\n",
    "response['test_score'] = score\n",
    "response['forecasted_set'] = predict\n",
    "\n",
    "print(response)"
   ]
  },
  {
   "cell_type": "code",
   "execution_count": null,
   "metadata": {},
   "outputs": [],
   "source": []
  }
 ],
 "metadata": {
  "kernelspec": {
   "display_name": "Python 3",
   "language": "python",
   "name": "python3"
  },
  "language_info": {
   "codemirror_mode": {
    "name": "ipython",
    "version": 3
   },
   "file_extension": ".py",
   "mimetype": "text/x-python",
   "name": "python",
   "nbconvert_exporter": "python",
   "pygments_lexer": "ipython3",
   "version": "3.8.3"
  }
 },
 "nbformat": 4,
 "nbformat_minor": 4
}
